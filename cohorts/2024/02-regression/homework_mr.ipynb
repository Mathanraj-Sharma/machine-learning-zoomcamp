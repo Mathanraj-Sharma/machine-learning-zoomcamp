{
 "cells": [
  {
   "cell_type": "code",
   "execution_count": 1,
<<<<<<< HEAD
   "id": "c451dfc9",
=======
>>>>>>> b9e5cbf (Homework 02)
   "metadata": {},
   "outputs": [],
   "source": [
    "import numpy as np\n",
    "import pandas as pd"
   ]
  },
  {
   "cell_type": "code",
<<<<<<< HEAD
   "execution_count": 18,
   "id": "b73eb3e7",
   "metadata": {},
   "outputs": [],
   "source": [
    "df = pd.read_csv(\"https://raw.githubusercontent.com/alexeygrigorev/datasets/master/laptops.csv\")"
=======
   "execution_count": 2,
   "metadata": {},
   "outputs": [
    {
     "name": "stdout",
     "output_type": "stream",
     "text": [
      "--2024-10-08 00:18:58--  https://raw.githubusercontent.com/alexeygrigorev/datasets/master/laptops.csv\n",
      "Resolving raw.githubusercontent.com (raw.githubusercontent.com)... 2606:50c0:8001::154, 2606:50c0:8002::154, 2606:50c0:8003::154, ...\n",
      "Connecting to raw.githubusercontent.com (raw.githubusercontent.com)|2606:50c0:8001::154|:443... connected.\n",
      "HTTP request sent, awaiting response... 200 OK\n",
      "Length: 298573 (292K) [text/plain]\n",
      "Saving to: ‘laptops.csv.4’\n",
      "\n",
      "laptops.csv.4       100%[===================>] 291.58K   677KB/s    in 0.4s    \n",
      "\n",
      "2024-10-08 00:18:59 (677 KB/s) - ‘laptops.csv.4’ saved [298573/298573]\n",
      "\n"
     ]
    }
   ],
   "source": [
    "!wget https://raw.githubusercontent.com/alexeygrigorev/datasets/master/laptops.csv"
>>>>>>> b9e5cbf (Homework 02)
   ]
  },
  {
   "cell_type": "code",
<<<<<<< HEAD
   "execution_count": 19,
   "id": "0b65ddec-6379-4cd9-b7d7-30e2cad30987",
=======
   "execution_count": 3,
   "metadata": {},
   "outputs": [],
   "source": [
    "df = pd.read_csv(\"./laptops.csv\")"
   ]
  },
  {
   "cell_type": "code",
   "execution_count": 4,
>>>>>>> b9e5cbf (Homework 02)
   "metadata": {},
   "outputs": [],
   "source": [
    "df.columns = df.columns.str.lower().str.replace(' ', '_')"
   ]
  },
  {
   "cell_type": "code",
<<<<<<< HEAD
   "execution_count": 20,
   "id": "02c6aa79-85f6-40fe-a6d2-468111e51bef",
   "metadata": {},
   "outputs": [],
   "source": [
    "import seaborn as sns"
   ]
  },
  {
   "cell_type": "code",
   "execution_count": 21,
   "id": "7da45f27-bb6c-4f80-bba3-dc78fe0d9a0a",
=======
   "execution_count": 5,
>>>>>>> b9e5cbf (Homework 02)
   "metadata": {},
   "outputs": [
    {
     "data": {
<<<<<<< HEAD
      "text/plain": [
       "<Axes: xlabel='final_price', ylabel='Count'>"
      ]
     },
     "execution_count": 21,
     "metadata": {},
     "output_type": "execute_result"
    },
    {
     "data": {
      "image/png": "iVBORw0KGgoAAAANSUhEUgAAAjsAAAGxCAYAAACEFXd4AAAAOXRFWHRTb2Z0d2FyZQBNYXRwbG90bGliIHZlcnNpb24zLjkuMSwgaHR0cHM6Ly9tYXRwbG90bGliLm9yZy/TGe4hAAAACXBIWXMAAA9hAAAPYQGoP6dpAAAxBUlEQVR4nO3deXRUVb7+/6cqE1MGAmQCEgaRQUYBYxxRcglDayOsXsJFBaXhyk1oEFsRlUlvi8tuRfEitLcV7NvS2PYFVBrREAYHAkoUIYBpQDQIGVQMIShJKrV/f/ilflYTSCUkVGXn/VrrrJVz9s6pzz4WJ49ndBhjjAAAACzl9HcBAAAADYmwAwAArEbYAQAAViPsAAAAqxF2AACA1Qg7AADAaoQdAABgNcIOAACwWrC/CwgEbrdbx48fV3h4uBwOh7/LAQAAPjDG6NSpU0pISJDTef7jN4QdScePH1fHjh39XQYAAKiDo0ePqkOHDudtJ+xICg8Pl/TTxoqIiPBzNQAAwBelpaXq2LGj5+/4+RB2JM+pq4iICMIOAACNTE2XoHCBMgAAsBphBwAAWI2wAwAArEbYAQAAViPsAAAAqxF2AACA1Qg7AADAaoQdAABgNcIOAACwGmEHAABYjbADAACsRtgBAABWI+wAAACrEXYAAIDVgv1dABqWy+WS2+2usZ/T6VRwMF8HAIB9+OtmMZfLpQ6JnVRUcKzGvrHx7fV1/pcEHgCAdfjLZjG3262igmMa89wmOYNDzt/PVak1M1J9OgIEAEBjQ9hpApzBIQq6QNgBAMBmXKAMAACsRtgBAABWI+wAAACrEXYAAIDVCDsAAMBqhB0AAGA1wg4AALAaYQcAAFiNsAMAAKxG2AEAAFYj7AAAAKsRdgAAgNUIOwAAwGqEHQAAYDXCDgAAsJpfw86iRYs0ePBghYeHKyYmRqNHj1ZeXp5XnyFDhsjhcHhN9957r1ef/Px8jRo1Si1atFBMTIweeOABuVyuSzkUAAAQoIL9+eHbtm1Tenq6Bg8eLJfLpYcffljDhg3T/v371bJlS0+/KVOm6LHHHvPMt2jRwvNzVVWVRo0apbi4OG3fvl0FBQW66667FBISoieeeOKSjgcAAAQev4adjRs3es2vXLlSMTExysnJ0Q033OBZ3qJFC8XFxVW7jnfffVf79+/Xpk2bFBsbq/79++vxxx/X7NmztWDBAoWGhjboGOqTy+WS2+2usZ/T6VRwsF//0wEA0GgE1DU7J0+elCRFR0d7LX/11VfVtm1b9e7dW3PmzNEPP/zgacvOzlafPn0UGxvrWZaWlqbS0lLt27ev2s8pLy9XaWmp1+RvLpdLHRI7KSwsrMapQ2InTtMBAOCjgDk84Ha7NXPmTF177bXq3bu3Z/m///u/KykpSQkJCdqzZ49mz56tvLw8rVmzRpJUWFjoFXQkeeYLCwur/axFixZp4cKFDTSSunG73SoqOKYxz22SMzjk/P1clVozI9WnI0AAACCAwk56erpyc3P1wQcfeC2fOnWq5+c+ffooPj5eQ4cO1eHDh9W1a9c6fdacOXM0a9Ysz3xpaak6duxYt8LrmTM4REEXCDsAAKB2AuI0VkZGhtavX68tW7aoQ4cOF+ybnJwsSTp06JAkKS4uTkVFRV59zs6f7zqfsLAwRUREeE0AAMBOfg07xhhlZGRo7dq12rx5szp37lzj7+zevVuSFB8fL0lKSUnR3r17VVxc7OmTmZmpiIgI9erVq0HqBgAAjYdfT2Olp6dr1apVeuONNxQeHu65xiYyMlLNmzfX4cOHtWrVKo0cOVJt2rTRnj17dN999+mGG25Q3759JUnDhg1Tr169dOedd+qpp55SYWGhHn30UaWnpyssLMyfwwMAAAHAr0d2li1bppMnT2rIkCGKj4/3TK+99pokKTQ0VJs2bdKwYcPUo0cP3X///Ro7dqzeeustzzqCgoK0fv16BQUFKSUlRXfccYfuuusur+fyAACApsuvR3aMMRds79ixo7Zt21bjepKSkrRhw4b6KgsAAFgkIC5QBgAAaCiEHQAAYDXCDgAAsBphBwAAWI2wAwAArBYwr4tA7VRUVNRLHwAAbEfYaWTcVS7JGaTw8HCff6emW/wBALAZYaexMUZyV+m2xZkKCg29YFfXmR+07v4RElkHANCEEXYaKV/eju7m7ekAAHCBMgAAsBthBwAAWI2wAwAArEbYAQAAViPsAAAAqxF2AACA1Qg7AADAaoQdAABgNcIOAACwGmEHAABYjbADAACsRtgBAABWI+wAAACrEXYAAIDVCDsAAMBqhB0AAGA1wg4AALAaYQcAAFiNsAMAAKxG2AEAAFYj7AAAAKsRdgAAgNUIOwAAwGrB/i4AgaOiosKnfk6nU8HBfHUAAI0Df7Egd5VLcgYpPDzcp/6x8e31df6XBB4AQKPAXytIxkjuKt22OFNBoaEX7Op2VWrNjFS53e5LVBwAABeHsAMPZ3CIgoJD/F0GAAD1iguUAQCA1Qg7AADAaoQdAABgNcIOAACwGmEHAABYjbADAACsRtgBAABWI+wAAACrEXYAAIDVCDsAAMBqhB0AAGA1wg4AALAaYQcAAFiNsAMAAKxG2AEAAFYj7AAAAKsRdgAAgNUIOwAAwGp+DTuLFi3S4MGDFR4erpiYGI0ePVp5eXlefc6cOaP09HS1adNGrVq10tixY1VUVOTVJz8/X6NGjVKLFi0UExOjBx54QC6X61IOBQAABCi/hp1t27YpPT1dO3bsUGZmpiorKzVs2DCdPn3a0+e+++7TW2+9pddff13btm3T8ePHNWbMGE97VVWVRo0apYqKCm3fvl2vvPKKVq5cqXnz5vljSAAAIMAE+/PDN27c6DW/cuVKxcTEKCcnRzfccINOnjypl156SatWrdLNN98sSVqxYoV69uypHTt26Oqrr9a7776r/fv3a9OmTYqNjVX//v31+OOPa/bs2VqwYIFCQ0P9MTQAABAgAuqanZMnT0qSoqOjJUk5OTmqrKxUamqqp0+PHj2UmJio7OxsSVJ2drb69Omj2NhYT5+0tDSVlpZq3759l7B6AAAQiPx6ZOfn3G63Zs6cqWuvvVa9e/eWJBUWFio0NFRRUVFefWNjY1VYWOjp8/Ogc7b9bFt1ysvLVV5e7pkvLS2tr2EAAIAAEzBHdtLT05Wbm6vVq1c3+GctWrRIkZGRnqljx44N/pkAAMA/AiLsZGRkaP369dqyZYs6dOjgWR4XF6eKigqVlJR49S8qKlJcXJynz7/enXV2/myffzVnzhydPHnSMx09erQeRwMAAAKJX8OOMUYZGRlau3atNm/erM6dO3u1Dxw4UCEhIcrKyvIsy8vLU35+vlJSUiRJKSkp2rt3r4qLiz19MjMzFRERoV69elX7uWFhYYqIiPCaAACAnfx6zU56erpWrVqlN954Q+Hh4Z5rbCIjI9W8eXNFRkZq8uTJmjVrlqKjoxUREaHp06crJSVFV199tSRp2LBh6tWrl+6880499dRTKiws1KOPPqr09HSFhYX5c3gAACAA+DXsLFu2TJI0ZMgQr+UrVqzQpEmTJEmLFy+W0+nU2LFjVV5errS0NL3wwguevkFBQVq/fr2mTZumlJQUtWzZUhMnTtRjjz12qYYBAAACmF/DjjGmxj7NmjXT0qVLtXTp0vP2SUpK0oYNG+qzNAAAYImAuEAZAACgoRB2AACA1Qg7AADAaoQdAABgNcIOAACwGmEHAABYjbADAACsRtgBAABWI+wAAACrEXYAAIDVCDsAAMBqhB0AAGA1wg4AALAaYQcAAFiNsAMAAKxG2AEAAFYj7AAAAKsRdgAAgNUIOwAAwGqEHQAAYDXCDgAAsBphBwAAWI2wAwAArEbYAQAAViPsAAAAqxF2AACA1Qg7AADAaoQdAABgNcIOAACwGmEHAABYjbADAACsRtgBAABWI+wAAACrEXYAAIDVCDsAAMBqhB0AAGA1wg4AALAaYQcAAFiNsAMAAKxG2AEAAFYj7AAAAKsRdgAAgNUIOwAAwGqEHQAAYDXCDgAAsBphBwAAWI2wAwAArEbYAQAAViPsAAAAqxF2AACA1Qg7AADAaoQdAABgNcIOAACwGmEHAABYrU5hp0uXLvruu+/OWV5SUqIuXbpcdFEIfBUVFTVOLpfL32UCAFC3sPPll1+qqqrqnOXl5eU6duyYz+t57733dMsttyghIUEOh0Pr1q3zap80aZIcDofXNHz4cK8+J06c0IQJExQREaGoqChNnjxZZWVldRkWfOCucknOIIWHhyssLOyCU4fETgQeAIDfBdem85tvvun5+Z133lFkZKRnvqqqSllZWerUqZPP6zt9+rT69eune+65R2PGjKm2z/Dhw7VixQrPfFhYmFf7hAkTVFBQoMzMTFVWVuruu+/W1KlTtWrVKp/rQC0YI7mrdNviTAWFhp63m9tVqTUzUuV2uy9hcQAAnKtWYWf06NGSJIfDoYkTJ3q1hYSEqFOnTnr66ad9Xt+IESM0YsSIC/YJCwtTXFxctW0HDhzQxo0b9fHHH2vQoEGSpOeff14jR47UH/7wByUkJPhcC2rHGRyioOAQf5cBAECNanUay+12y+12KzExUcXFxZ55t9ut8vJy5eXl6Re/+EW9Frh161bFxMSoe/fumjZtmte1QtnZ2YqKivIEHUlKTU2V0+nUzp0767UOAADQONXqyM5ZR44cqe86qjV8+HCNGTNGnTt31uHDh/Xwww9rxIgRys7OVlBQkAoLCxUTE+P1O8HBwYqOjlZhYeF511teXq7y8nLPfGlpaYONAQAA+Fedwo4kZWVlKSsry3OE5+defvnliy5MksaNG+f5uU+fPurbt6+6du2qrVu3aujQoXVe76JFi7Rw4cL6KBEAAAS4Ot2NtXDhQg0bNkxZWVn69ttv9f3333tNDaVLly5q27atDh06JEmKi4tTcXGxVx+Xy6UTJ06c9zofSZozZ45OnjzpmY4ePdpgNQMAAP+q05Gd5cuXa+XKlbrzzjvru54L+vrrr/Xdd98pPj5ekpSSkqKSkhLl5ORo4MCBkqTNmzfL7XYrOTn5vOs5e2s0AACwX53CTkVFha655pqL/vCysjLPURrpp2uBdu/erejoaEVHR2vhwoUaO3as4uLidPjwYT344IO67LLLlJaWJknq2bOnhg8frilTpmj58uWqrKxURkaGxo0bx51YAABAUh1PY/3617+ul+fY7Nq1SwMGDNCAAQMkSbNmzdKAAQM0b948BQUFac+ePbr11lt1+eWXa/LkyRo4cKDef/99r6Myr776qnr06KGhQ4dq5MiRuu666/Tiiy9edG0AAMAOdTqyc+bMGb344ovatGmT+vbtq5AQ7+etPPPMMz6tZ8iQITLGnLf9nXfeqXEd0dHRPEAQAACcV53Czp49e9S/f39JUm5urlebw+G46KIAAADqS53CzpYtW+q7DgAAgAZRp2t2AAAAGos6Hdm56aabLni6avPmzXUuCAAAoD7VKeycvV7nrMrKSu3evVu5ubnnvCAUAADAn+oUdhYvXlzt8gULFqisrOyiCgIAAKhP9XrNzh133FFv78UCAACoD/UadrKzs9WsWbP6XCUAAMBFqdNprDFjxnjNG2NUUFCgXbt2ae7cufVSGAAAQH2oU9iJjIz0mnc6nerevbsee+wxDRs2rF4KAwAAqA91CjsrVqyo7zpgqYqKCp/6OZ1OBQfX6esIAMAFXdRfl5ycHB04cECSdMUVV3he6Am4q1ySM0jh4eE+9Y+Nb6+v878k8AAA6l2d/rIUFxdr3Lhx2rp1q6KioiRJJSUluummm7R69Wq1a9euPmtEY2SM5K7SbYszFRQaesGublel1sxIldvtvkTFAQCakjrdjTV9+nSdOnVK+/bt04kTJ3TixAnl5uaqtLRUv/nNb+q7RjRizuAQBdUwOYND/F0mAMBidTqys3HjRm3atEk9e/b0LOvVq5eWLl3KBcoAACCg1OnIjtvtVkjIuf83HhISwqkIAAAQUOoUdm6++WbNmDFDx48f9yw7duyY7rvvPg0dOrTeigMAALhYdQo7//3f/63S0lJ16tRJXbt2VdeuXdW5c2eVlpbq+eefr+8aAQAA6qxO1+x07NhRn3zyiTZt2qTPP/9cktSzZ0+lpqbWa3EAAAAXq1ZHdjZv3qxevXqptLRUDodD//Zv/6bp06dr+vTpGjx4sK644gq9//77DVUrAABArdUq7Dz77LOaMmWKIiIizmmLjIzUf/zHf+iZZ56pt+IAAAAuVq3Czmeffabhw4eft33YsGHKycm56KIAAADqS63CTlFRUbW3nJ8VHBysb7755qKLAgAAqC+1Cjvt27dXbm7uedv37Nmj+Pj4iy4KAACgvtQq7IwcOVJz587VmTNnzmn78ccfNX/+fP3iF7+ot+IAAAAuVq1uPX/00Ue1Zs0aXX755crIyFD37t0lSZ9//rmWLl2qqqoqPfLIIw1SKAAAQF3UKuzExsZq+/btmjZtmubMmSNjjCTJ4XAoLS1NS5cuVWxsbIMUCgAAUBe1fqhgUlKSNmzYoO+//16HDh2SMUbdunVT69atG6I+wIvL5fL5/WtOp1PBwXV6biYAwCJ1/kvQunVrDR48uD5rAS7I5XKpQ2InFRUc86l/bHx7fZ3/JYEHAJo4/gqg0XC73SoqOKYxz22SM/j8j0CQJLerUmtmpPp8FAgAYC/CDhodZ3CIgmoIOwAAnFWnt54DAAA0FoQdAABgNcIOAACwGmEHAABYjbADAACsRtgBAABWI+wAAACrEXYAAIDVCDsAAMBqhB0AAGA1wg4AALAaYQcAAFiNsAMAAKxG2AEAAFYj7AAAAKsRdgAAgNUIOwAAwGqEHQAAYDXCDgAAsBphBwAAWC3Y3wUAZ1VUVFxUOwAA1SHswO/cVS7JGaTw8HCf+htjGrgiAIBNCDvwP2Mkd5VuW5ypoNDQ83ZznflB6+4fIZF1AAC1QNhBwHAGhygoOOS87e4LtAEAcD5+vUD5vffe0y233KKEhAQ5HA6tW7fOq90Yo3nz5ik+Pl7NmzdXamqqDh486NXnxIkTmjBhgiIiIhQVFaXJkyerrKzsEo4CAAAEMr+GndOnT6tfv35aunRpte1PPfWUlixZouXLl2vnzp1q2bKl0tLSdObMGU+fCRMmaN++fcrMzNT69ev13nvvaerUqZdqCAhwFRUVNU4ul8vfZQIAGpBfT2ONGDFCI0aMqLbNGKNnn31Wjz76qH75y19Kkv785z8rNjZW69at07hx43TgwAFt3LhRH3/8sQYNGiRJev755zVy5Ej94Q9/UEJCwiUbCwJLbS56jo1vr6/zv1RwMGd1AcBGAbt3P3LkiAoLC5WamupZFhkZqeTkZGVnZ2vcuHHKzs5WVFSUJ+hIUmpqqpxOp3bu3KnbbrvNH6UjEPh40bPbVak1M1LldrsvYXEAgEspYMNOYWGhJCk2NtZreWxsrKetsLBQMTExXu3BwcGKjo729KlOeXm5ysvLPfOlpaX1VTYCTE0XPQMA7Nckn6C8aNEiRUZGeqaOHTv6uyQAANBAAjbsxMXFSZKKioq8lhcVFXna4uLiVFxc7NXucrl04sQJT5/qzJkzRydPnvRMR48erefqAQBAoAjYsNO5c2fFxcUpKyvLs6y0tFQ7d+5USkqKJCklJUUlJSXKycnx9Nm8ebPcbreSk5PPu+6wsDBFRER4TQAAwE5+vWanrKxMhw4d8swfOXJEu3fvVnR0tBITEzVz5kz913/9l7p166bOnTtr7ty5SkhI0OjRoyVJPXv21PDhwzVlyhQtX75clZWVysjI0Lhx47gTCwAASPJz2Nm1a5duuukmz/ysWbMkSRMnTtTKlSv14IMP6vTp05o6dapKSkp03XXXaePGjWrWrJnnd1599VVlZGRo6NChcjqdGjt2rJYsWXLJxwIAAAKTX8POkCFDLvhSR4fDoccee0yPPfbYeftER0dr1apVDVEeAACwQMBeswMAAFAfCDsAAMBqhB0AAGA1wg4AALAaYQcAAFiNsAMAAKxG2AEAAFYj7AAAAKsRdgAAgNUIOwAAwGp+fV0EECgqKip86ud0OhUczD8bAGhM2GujSXNXuSRnkMLDw33qHxvfXl/nf0ngAYBGhD02mjZjJHeVblucqaDQ0At2dbsqtWZGqtxu9yUqDgBQHwg7gCRncIiCgkP8XQYAoAFwgTIAALAaYQcAAFiNsAMAAKxG2AEAAFbjAmWglnx5Jg/P4wGAwMHeGPBRbZ7Jw/N4ACBwsCduYC6Xy6fnsvj6BF/4kY/P5OF5PAAQWAg7DcjlcqlDYicVFRzz+XeMMQ1YEeoDz+QBgMaFsNOA3G63igqOacxzm+Ss4Y+j68wPWnf/CImsAwBAvSLsXAK+HAlwc6QAAIAGwa3nAADAaoQdAABgNcIOAACwGmEHAABYjbADAACsRtgBAABWI+wAAACrEXYAAIDVCDsAAMBqhB0AAGA1wg4AALAaYQcAAFiNsAMAAKxG2AEAAFYj7AAAAKsRdgAAgNUIOwAAwGqEHQAAYDXCDgAAsBphBwAAWI2wAwAArEbYAQAAViPsAAAAqxF2AACA1Qg7AADAaoQdAABgNcIOAACwGmEHAABYjbADAACsRtgBAABWI+wAAACrBXTYWbBggRwOh9fUo0cPT/uZM2eUnp6uNm3aqFWrVho7dqyKior8WDEAAAg0AR12JOmKK65QQUGBZ/rggw88bffdd5/eeustvf7669q2bZuOHz+uMWPG+LFaAAAQaIL9XUBNgoODFRcXd87ykydP6qWXXtKqVat08803S5JWrFihnj17aseOHbr66qsvdakAACAABfyRnYMHDyohIUFdunTRhAkTlJ+fL0nKyclRZWWlUlNTPX179OihxMREZWdn+6tcAAAQYAL6yE5ycrJWrlyp7t27q6CgQAsXLtT111+v3NxcFRYWKjQ0VFFRUV6/Exsbq8LCwguut7y8XOXl5Z750tLShigfAAAEgIAOOyNGjPD83LdvXyUnJyspKUl/+9vf1Lx58zqvd9GiRVq4cGF9lAgAAAJcwJ/G+rmoqChdfvnlOnTokOLi4lRRUaGSkhKvPkVFRdVe4/Nzc+bM0cmTJz3T0aNHG7BqAADgT40q7JSVlenw4cOKj4/XwIEDFRISoqysLE97Xl6e8vPzlZKScsH1hIWFKSIiwmsCAAB2CujTWL/97W91yy23KCkpScePH9f8+fMVFBSk8ePHKzIyUpMnT9asWbMUHR2tiIgITZ8+XSkpKdyJBQAAPAI67Hz99dcaP368vvvuO7Vr107XXXedduzYoXbt2kmSFi9eLKfTqbFjx6q8vFxpaWl64YUX/Fw1AAAIJAEddlavXn3B9mbNmmnp0qVaunTpJaoIAAA0No3qmh0AAIDaIuwAAACrBfRpLKAxq6io8Kmf0+lUcDD/FAGgobCHBeqZu8olOYMUHh7uU//Y+Pb6Ov9LAg8ANBD2rkB9M0ZyV+m2xZkKCg29YFe3q1JrZqTK7XZfouIAoOkh7AANxBkcoqDgEH+XAQBNHhcoAwAAqxF2AACA1Qg7AADAaoQdAABgNS5QBgKAL8/k4Xk8AFA37DkBP6rNM3li4hJ05PDBGgMPoQgAvLFHBPzJx2fyuMrPaN1vR6ply5Y1rpKHFAKAN/aGQACo6Zk8blelT6GIhxQCwLkIO0AjwoMKAaD2uBsLAABYjbADAACsRtgBAABWI+wAAACrEXYAAIDVCDsAAMBqhB0AAGA1nrMDWMiXd21JktvtltNZ8//z+NpP4nUVAAIPeyTAIrV515YkOYND5Xb58BJSH/tJvK4CQOBhbwTYxMd3bUmS68wPWnf/iJrfy+VjP4nXVQAITIQdwEK+vFbC/f/aa3wvl4/9ACBQcYEyAACwGmEHAABYjbADAACsRtgBAABWI+wAAACrEXYAAIDVCDsAAMBqhB0AAGA1wg4AALAaYQcAAFiN10UA8AuXy+XzO7R8fZN6Q6wTQOPHv3QAl5zL5VKHxE4qKjjmU39f3qRe23XGxCXoyOGDNQYeQhHQ+PEvGMAl53a7VVRwTGOe2yRnTS8s9fFN6rVZp6v8jNb9dqRatmxZY62+BC0AgY1/vQD8piHepO7TG99dlZK7SrctzlRQaOgF+/kStAAENsIOgEahoqLiotqr0xBhC0DgIewACGjuKpfkDFJ4eLhP/Y0xDVwRgMaGsAMgsBnj0ykn15kftO7+ERJZB8C/IOwAaBRqOuXk5nQUgPPgoYIAAMBqhB0AAGA1wg4AALAaYQcAAFiNsAMAAKzG3VgA6l1DPAAQAOqKsAOg3vAAQACBiLADoP408QcAulwun96j5Xa75XT6dhWBP9+67ut4JN4Oj8DGNxNAvbPtAYC+nHZzuVzqclk3FRUcr7GvMzhUbpdvp/J8fet6fQcTl8ulDomdVFRwrF7rBPyBbyUAnEdtT8tJ0m3PZioopOajWjUd/ZJ8f+t6QwQTt9utooJjGvPcJjl9eIs8b4dHICPsAMD5+HhaTvr/Q4wzyLejWvX5xvWGDCa8GR42sObW86VLl6pTp05q1qyZkpOT9dFHH/m7JACWOPsH/0JTTSHjYlRUVNQ41bZOX9cJ2MCKIzuvvfaaZs2apeXLlys5OVnPPvus0tLSlJeXp5iYGH+XBwB10hB3tzXkHXO+BCQuZIY/WPGNe+aZZzRlyhTdfffdkqTly5frH//4h15++WU99NBDfq4OAOqoIe5ua4B11iZAxcQl6Mjhgz4FHl+DUW0uzvb1TrjGcsecv/m67f29jRr9f52Kigrl5ORozpw5nmVOp1OpqanKzs72Y2UAUD8a4u62el2nrwGq/IzW/XakWrZs6dNqfbmQurYXZ/t6J1xD3DFnm9pse39vo0b/X+bbb79VVVWVYmNjvZbHxsbq888/r/Z3ysvLVV5e7pk/efKkJKm0tLReazt7SLe8rETOoAvvOFzlP3j6ui50J4eP/Vhn01ynbeNhnY1rnZVnTstdVXnhfu4qjfyvvysopIYLqatc+sfDY1VcXKzQCwSoiooKFRUc06gn/k/OoBpupy8/o7fn3V7j5/varzZ12sjXbX92G5WUlNT7Njr7d7vG062mkTt27JiRZLZv3+61/IEHHjBXXXVVtb8zf/58o58OzjIxMTExMTE18uno0aMXzAqN/shO27ZtFRQUpKKiIq/lRUVFiouLq/Z35syZo1mzZnnm3W63Tpw4oTZt2sjhcFT7O6WlperYsaOOHj2qiIiI+htAI8I2YBtIbAOJbSCxDZr6+KXA2AbGGJ06dUoJCQkX7Nfow05oaKgGDhyorKwsjR49WtJP4SUrK0sZGRnV/k5YWJjCwsK8lkVFRfn0eREREU32i30W24BtILENJLaBxDZo6uOX/L8NIiMja+zT6MOOJM2aNUsTJ07UoEGDdNVVV+nZZ5/V6dOnPXdnAQCApsuKsHP77bfrm2++0bx581RYWKj+/ftr48aN51y0DAAAmh4rwo4kZWRknPe0VX0ICwvT/Pnzzzn91ZSwDdgGEttAYhtIbIOmPn6pcW0DhzG1eDwmAABAI2PNu7EAAACqQ9gBAABWI+wAAACrEXZ8tHTpUnXq1EnNmjVTcnKyPvroI3+XVCfvvfeebrnlFiUkJMjhcGjdunVe7cYYzZs3T/Hx8WrevLlSU1N18OBBrz4nTpzQhAkTFBERoaioKE2ePFllZWVeffbs2aPrr79ezZo1U8eOHfXUU0819NB8smjRIg0ePFjh4eGKiYnR6NGjlZeX59XnzJkzSk9PV5s2bdSqVSuNHTv2nIdW5ufna9SoUWrRooViYmL0wAMPyOVyefXZunWrrrzySoWFhemyyy7TypUrG3p4Plm2bJn69u3reTZGSkqK3n77bU+77eOvzpNPPimHw6GZM2d6ltm+HRYsWCCHw+E19ejRw9Nu+/jPOnbsmO644w61adNGzZs3V58+fbRr1y5Pu+37xE6dOp3zPXA4HEpPT5dk0fegPl7ZYLvVq1eb0NBQ8/LLL5t9+/aZKVOmmKioKFNUVOTv0mptw4YN5pFHHjFr1qwxkszatWu92p988kkTGRlp1q1bZz777DNz6623ms6dO5sff/zR02f48OGmX79+ZseOHeb99983l112mRk/fryn/eTJkyY2NtZMmDDB5Obmmr/+9a+mefPm5o9//OOlGuZ5paWlmRUrVpjc3Fyze/duM3LkSJOYmGjKyso8fe69917TsWNHk5WVZXbt2mWuvvpqc80113jaXS6X6d27t0lNTTWffvqp2bBhg2nbtq2ZM2eOp88XX3xhWrRoYWbNmmX2799vnn/+eRMUFGQ2btx4ScdbnTfffNP84x//MP/85z9NXl6eefjhh01ISIjJzc01xtg//n/10UcfmU6dOpm+ffuaGTNmeJbbvh3mz59vrrjiClNQUOCZvvnmG0+77eM3xpgTJ06YpKQkM2nSJLNz507zxRdfmHfeecccOnTI08f2fWJxcbHXdyAzM9NIMlu2bDHG2PM9IOz44KqrrjLp6eme+aqqKpOQkGAWLVrkx6ou3r+GHbfbbeLi4szvf/97z7KSkhITFhZm/vrXvxpjjNm/f7+RZD7++GNPn7fffts4HA5z7NgxY4wxL7zwgmndurUpLy/39Jk9e7bp3r17A4+o9oqLi40ks23bNmPMT+MNCQkxr7/+uqfPgQMHjCSTnZ1tjPkpMDqdTlNYWOjps2zZMhMREeEZ84MPPmiuuOIKr8+6/fbbTVpaWkMPqU5at25t/vSnPzW58Z86dcp069bNZGZmmhtvvNETdprCdpg/f77p169ftW1NYfzG/LRfuu66687b3hT3iTNmzDBdu3Y1brfbqu8Bp7FqUFFRoZycHKWmpnqWOZ1OpaamKjs724+V1b8jR46osLDQa6yRkZFKTk72jDU7O1tRUVEaNGiQp09qaqqcTqd27tzp6XPDDTd4vd02LS1NeXl5+v777y/RaHxz9o330dHRkqScnBxVVlZ6bYMePXooMTHRaxv06dPH66GVaWlpKi0t1b59+zx9fr6Os30C7TtTVVWl1atX6/Tp00pJSWly409PT9eoUaPOqbWpbIeDBw8qISFBXbp00YQJE5Sfny+p6Yz/zTff1KBBg/SrX/1KMTExGjBggP7nf/7H097U9okVFRX6y1/+onvuuUcOh8Oq7wFhpwbffvutqqqqznkac2xsrAoLC/1UVcM4O54LjbWwsFAxMTFe7cHBwYqOjvbqU906fv4ZgcDtdmvmzJm69tpr1bt3b0k/1RcaGnrOu9L+dRvUNL7z9SktLdWPP/7YEMOplb1796pVq1YKCwvTvffeq7Vr16pXr15NZvyStHr1an3yySdatGjROW1NYTskJydr5cqV2rhxo5YtW6YjR47o+uuv16lTp5rE+CXpiy++0LJly9StWze98847mjZtmn7zm9/olVdekdT09onr1q1TSUmJJk2aJMmufwfWPEEZqK309HTl5ubqgw8+8Hcpl1z37t21e/dunTx5Un//+981ceJEbdu2zd9lXTJHjx7VjBkzlJmZqWbNmvm7HL8YMWKE5+e+ffsqOTlZSUlJ+tvf/qbmzZv7sbJLx+12a9CgQXriiSckSQMGDFBubq6WL1+uiRMn+rm6S++ll17SiBEjanyDeGPEkZ0atG3bVkFBQedcfV5UVKS4uDg/VdUwzo7nQmONi4tTcXGxV7vL5dKJEye8+lS3jp9/hr9lZGRo/fr12rJlizp06OBZHhcXp4qKCpWUlHj1/9dtUNP4ztcnIiIiIP6QhIaG6rLLLtPAgQO1aNEi9evXT88991yTGX9OTo6Ki4t15ZVXKjg4WMHBwdq2bZuWLFmi4OBgxcbGNont8HNRUVG6/PLLdejQoSbzPYiPj1evXr28lvXs2dNzOq8p7RO/+uorbdq0Sb/+9a89y2z6HhB2ahAaGqqBAwcqKyvLs8ztdisrK0spKSl+rKz+de7cWXFxcV5jLS0t1c6dOz1jTUlJUUlJiXJycjx9Nm/eLLfbreTkZE+f9957T5WVlZ4+mZmZ6t69u1q3bn2JRlM9Y4wyMjK0du1abd68WZ07d/ZqHzhwoEJCQry2QV5envLz8722wd69e712cJmZmYqIiPDsOFNSUrzWcbZPoH5n3G63ysvLm8z4hw4dqr1792r37t2eadCgQZowYYLn56awHX6urKxMhw8fVnx8fJP5Hlx77bXnPHrin//8p5KSkiQ1jX3iWStWrFBMTIxGjRrlWWbV9+CSXQrdiK1evdqEhYWZlStXmv3795upU6eaqKgor6vPG4tTp06ZTz/91Hz66adGknnmmWfMp59+ar766itjzE+3WUZFRZk33njD7Nmzx/zyl7+s9jbLAQMGmJ07d5oPPvjAdOvWzes2y5KSEhMbG2vuvPNOk5uba1avXm1atGgRELdZTps2zURGRpqtW7d63W75ww8/ePrce++9JjEx0WzevNns2rXLpKSkmJSUFE/72Vsthw0bZnbv3m02btxo2rVrV+2tlg888IA5cOCAWbp0acDccvvQQw+Zbdu2mSNHjpg9e/aYhx56yDgcDvPuu+8aY+wf//n8/G4sY+zfDvfff7/ZunWrOXLkiPnwww9Namqqadu2rSkuLjbG2D9+Y3567EBwcLD53e9+Zw4ePGheffVV06JFC/OXv/zF08f2faIxP91hnJiYaGbPnn1Omy3fA8KOj55//nmTmJhoQkNDzVVXXWV27Njh75LqZMuWLUbSOdPEiRONMT/dajl37lwTGxtrwsLCzNChQ01eXp7XOr777jszfvx406pVKxMREWHuvvtuc+rUKa8+n332mbnuuutMWFiYad++vXnyyScv1RAvqLqxSzIrVqzw9Pnxxx/Nf/7nf5rWrVubFi1amNtuu80UFBR4refLL780I0aMMM2bNzdt27Y1999/v6msrPTqs2XLFtO/f38TGhpqunTp4vUZ/nTPPfeYpKQkExoaatq1a2eGDh3qCTrG2D/+8/nXsGP7drj99ttNfHy8CQ0NNe3btze333671/NlbB//WW+99Zbp3bu3CQsLMz169DAvvviiV7vt+0RjjHnnnXeMpHPGZYw93wPeeg4AAKzGNTsAAMBqhB0AAGA1wg4AALAaYQcAAFiNsAMAAKxG2AEAAFYj7AAAAKsRdgAAgNUIOwAahDFGU6dOVXR0tBwOh6KiojRz5sx6/YwFCxaof//+9brO6jgcDq1bt67BPwdAwwj2dwEA7LRx40atXLlSW7duVZcuXeR0OgPiTdd1UVBQEDAvbARQe4QdAA3i7Bu0r7nmGn+XUmcVFRUKDQ1VXFycv0sBcBE4jQWg3k2aNEnTp09Xfn6+HA6HOnXqpCFDhnidxurUqZOeeOIJ3XPPPQoPD1diYqJefPFFr/XMnj1bl19+uVq0aKEuXbpo7ty5qqysrHNNo0eP1sKFC9WuXTtFRETo3nvvVUVFhafPkCFDlJGRoZkzZ6pt27ZKS0uTdO5prK+//lrjx49XdHS0WrZsqUGDBmnnzp2e9jfeeENXXnmlmjVrpi5dumjhwoVyuVx1qhvAxePIDoB699xzz6lr16568cUX9fHHHysoKEi/+tWvzun39NNP6/HHH9fDDz+sv//975o2bZpuvPFGde/eXZIUHh6ulStXKiEhQXv37tWUKVMUHh6uBx98sE51ZWVlqVmzZtq6dau+/PJL3X333WrTpo1+97vfefq88sormjZtmj788MNq11FWVqYbb7xR7du315tvvqm4uDh98skncrvdkqT3339fd911l5YsWaLrr79ehw8f1tSpUyVJ8+fPr1PdAC7SJX3HOoAmY/HixSYpKckzf+ONN5oZM2Z45pOSkswdd9zhmXe73SYmJsYsW7bsvOv8/e9/bwYOHOiZnz9/vunXr59P9UycONFER0eb06dPe5YtW7bMtGrVylRVVXlqHDBgwDm/K8msXbvWGGPMH//4RxMeHm6+++67aj9n6NCh5oknnvBa9r//+78mPj7epzoB1D+O7ADwm759+3p+djgciouLU3FxsWfZa6+9piVLlujw4cMqKyuTy+VSREREnT+vX79+atGihWc+JSVFZWVlOnr0qJKSkiRJAwcOvOA6du/erQEDBig6Orra9s8++0wffvih19GiqqoqnTlzRj/88IPX5wO4NAg7APwmJCTEa97hcHhOB2VnZ2vChAlauHCh0tLSFBkZqdWrV+vpp59u0Jpatmx5wfaa7igrKyvTwoULNWbMmHPamjVrdlG1Aagbwg6AgLR9+3YlJSXpkUce8Sz76quvLmqdn332mX788UdPYNmxY4datWqljh07+ryOvn376k9/+pNOnDhR7dGdK6+8Unl5ebrssssuqlYA9Ye7sQAEpG7duik/P1+rV6/W4cOHtWTJEq1du/ai1llRUaHJkydr//792rBhg+bPn6+MjAw5nb7vCsePH6+4uDiNHj1aH374ob744gv93//9n7KzsyVJ8+bN05///GctXLhQ+/bt04EDB7R69Wo9+uijF1U7gLoj7AAISLfeeqvuu+8+ZWRkqH///tq+fbvmzp17UescOnSounXrphtuuEG33367br31Vi1YsKBW6wgNDdW7776rmJgYjRw5Un369NGTTz6poKAgSVJaWprWr1+vd999V4MHD9bVV1+txYsXe64JAnDpOYwxxt9FAEBDmzRpkkpKSnjtA9AEcWQHAABYjQuUAVihVatW5217++23L2ElAAINp7EAWOHQoUPnbWvfvn2jfQkpgItH2AEAAFbjmh0AAGA1wg4AALAaYQcAAFiNsAMAAKxG2AEAAFYj7AAAAKsRdgAAgNUIOwAAwGr/H2c4P21WzpknAAAAAElFTkSuQmCC",
      "text/plain": [
       "<Figure size 640x480 with 1 Axes>"
      ]
     },
     "metadata": {},
     "output_type": "display_data"
    }
   ],
   "source": [
    "sns.histplot(df['final_price'])"
=======
      "text/html": [
       "<div>\n",
       "<style scoped>\n",
       "    .dataframe tbody tr th:only-of-type {\n",
       "        vertical-align: middle;\n",
       "    }\n",
       "\n",
       "    .dataframe tbody tr th {\n",
       "        vertical-align: top;\n",
       "    }\n",
       "\n",
       "    .dataframe thead th {\n",
       "        text-align: right;\n",
       "    }\n",
       "</style>\n",
       "<table border=\"1\" class=\"dataframe\">\n",
       "  <thead>\n",
       "    <tr style=\"text-align: right;\">\n",
       "      <th></th>\n",
       "      <th>laptop</th>\n",
       "      <th>status</th>\n",
       "      <th>brand</th>\n",
       "      <th>model</th>\n",
       "      <th>cpu</th>\n",
       "      <th>ram</th>\n",
       "      <th>storage</th>\n",
       "      <th>storage_type</th>\n",
       "      <th>gpu</th>\n",
       "      <th>screen</th>\n",
       "      <th>touch</th>\n",
       "      <th>final_price</th>\n",
       "    </tr>\n",
       "  </thead>\n",
       "  <tbody>\n",
       "    <tr>\n",
       "      <th>0</th>\n",
       "      <td>ASUS ExpertBook B1 B1502CBA-EJ0436X Intel Core...</td>\n",
       "      <td>New</td>\n",
       "      <td>Asus</td>\n",
       "      <td>ExpertBook</td>\n",
       "      <td>Intel Core i5</td>\n",
       "      <td>8</td>\n",
       "      <td>512</td>\n",
       "      <td>SSD</td>\n",
       "      <td>NaN</td>\n",
       "      <td>15.6</td>\n",
       "      <td>No</td>\n",
       "      <td>1009.00</td>\n",
       "    </tr>\n",
       "    <tr>\n",
       "      <th>1</th>\n",
       "      <td>Alurin Go Start Intel Celeron N4020/8GB/256GB ...</td>\n",
       "      <td>New</td>\n",
       "      <td>Alurin</td>\n",
       "      <td>Go</td>\n",
       "      <td>Intel Celeron</td>\n",
       "      <td>8</td>\n",
       "      <td>256</td>\n",
       "      <td>SSD</td>\n",
       "      <td>NaN</td>\n",
       "      <td>15.6</td>\n",
       "      <td>No</td>\n",
       "      <td>299.00</td>\n",
       "    </tr>\n",
       "    <tr>\n",
       "      <th>2</th>\n",
       "      <td>ASUS ExpertBook B1 B1502CBA-EJ0424X Intel Core...</td>\n",
       "      <td>New</td>\n",
       "      <td>Asus</td>\n",
       "      <td>ExpertBook</td>\n",
       "      <td>Intel Core i3</td>\n",
       "      <td>8</td>\n",
       "      <td>256</td>\n",
       "      <td>SSD</td>\n",
       "      <td>NaN</td>\n",
       "      <td>15.6</td>\n",
       "      <td>No</td>\n",
       "      <td>789.00</td>\n",
       "    </tr>\n",
       "    <tr>\n",
       "      <th>3</th>\n",
       "      <td>MSI Katana GF66 12UC-082XES Intel Core i7-1270...</td>\n",
       "      <td>New</td>\n",
       "      <td>MSI</td>\n",
       "      <td>Katana</td>\n",
       "      <td>Intel Core i7</td>\n",
       "      <td>16</td>\n",
       "      <td>1000</td>\n",
       "      <td>SSD</td>\n",
       "      <td>RTX 3050</td>\n",
       "      <td>15.6</td>\n",
       "      <td>No</td>\n",
       "      <td>1199.00</td>\n",
       "    </tr>\n",
       "    <tr>\n",
       "      <th>4</th>\n",
       "      <td>HP 15S-FQ5085NS Intel Core i5-1235U/16GB/512GB...</td>\n",
       "      <td>New</td>\n",
       "      <td>HP</td>\n",
       "      <td>15S</td>\n",
       "      <td>Intel Core i5</td>\n",
       "      <td>16</td>\n",
       "      <td>512</td>\n",
       "      <td>SSD</td>\n",
       "      <td>NaN</td>\n",
       "      <td>15.6</td>\n",
       "      <td>No</td>\n",
       "      <td>669.01</td>\n",
       "    </tr>\n",
       "  </tbody>\n",
       "</table>\n",
       "</div>"
      ],
      "text/plain": [
       "                                              laptop status   brand  \\\n",
       "0  ASUS ExpertBook B1 B1502CBA-EJ0436X Intel Core...    New    Asus   \n",
       "1  Alurin Go Start Intel Celeron N4020/8GB/256GB ...    New  Alurin   \n",
       "2  ASUS ExpertBook B1 B1502CBA-EJ0424X Intel Core...    New    Asus   \n",
       "3  MSI Katana GF66 12UC-082XES Intel Core i7-1270...    New     MSI   \n",
       "4  HP 15S-FQ5085NS Intel Core i5-1235U/16GB/512GB...    New      HP   \n",
       "\n",
       "        model            cpu  ram  storage storage_type       gpu  screen  \\\n",
       "0  ExpertBook  Intel Core i5    8      512          SSD       NaN    15.6   \n",
       "1          Go  Intel Celeron    8      256          SSD       NaN    15.6   \n",
       "2  ExpertBook  Intel Core i3    8      256          SSD       NaN    15.6   \n",
       "3      Katana  Intel Core i7   16     1000          SSD  RTX 3050    15.6   \n",
       "4         15S  Intel Core i5   16      512          SSD       NaN    15.6   \n",
       "\n",
       "  touch  final_price  \n",
       "0    No      1009.00  \n",
       "1    No       299.00  \n",
       "2    No       789.00  \n",
       "3    No      1199.00  \n",
       "4    No       669.01  "
      ]
     },
     "execution_count": 5,
     "metadata": {},
     "output_type": "execute_result"
    }
   ],
   "source": [
    "df.head()"
>>>>>>> b9e5cbf (Homework 02)
   ]
  },
  {
   "cell_type": "code",
<<<<<<< HEAD
   "execution_count": 22,
   "id": "48706b7b-5900-4540-b5fd-2ca54f65461a",
=======
   "execution_count": 6,
   "metadata": {},
   "outputs": [],
   "source": [
    "df = df[['ram', 'storage', 'screen', 'final_price']]"
   ]
  },
  {
   "cell_type": "code",
   "execution_count": 7,
>>>>>>> b9e5cbf (Homework 02)
   "metadata": {},
   "outputs": [
    {
     "data": {
      "text/html": [
       "<div>\n",
       "<style scoped>\n",
       "    .dataframe tbody tr th:only-of-type {\n",
       "        vertical-align: middle;\n",
       "    }\n",
       "\n",
       "    .dataframe tbody tr th {\n",
       "        vertical-align: top;\n",
       "    }\n",
       "\n",
       "    .dataframe thead th {\n",
       "        text-align: right;\n",
       "    }\n",
       "</style>\n",
       "<table border=\"1\" class=\"dataframe\">\n",
       "  <thead>\n",
       "    <tr style=\"text-align: right;\">\n",
       "      <th></th>\n",
       "      <th>ram</th>\n",
       "      <th>storage</th>\n",
       "      <th>screen</th>\n",
       "      <th>final_price</th>\n",
       "    </tr>\n",
       "  </thead>\n",
       "  <tbody>\n",
       "    <tr>\n",
<<<<<<< HEAD
       "      <th>count</th>\n",
       "      <td>2160.000000</td>\n",
       "      <td>2160.000000</td>\n",
       "      <td>2156.000000</td>\n",
       "      <td>2160.000000</td>\n",
       "    </tr>\n",
       "    <tr>\n",
       "      <th>mean</th>\n",
       "      <td>15.413889</td>\n",
       "      <td>596.294444</td>\n",
       "      <td>15.168112</td>\n",
       "      <td>1312.638509</td>\n",
       "    </tr>\n",
       "    <tr>\n",
       "      <th>std</th>\n",
       "      <td>9.867815</td>\n",
       "      <td>361.220506</td>\n",
       "      <td>1.203329</td>\n",
       "      <td>911.475417</td>\n",
       "    </tr>\n",
       "    <tr>\n",
       "      <th>min</th>\n",
       "      <td>4.000000</td>\n",
       "      <td>0.000000</td>\n",
       "      <td>10.100000</td>\n",
       "      <td>201.050000</td>\n",
       "    </tr>\n",
       "    <tr>\n",
       "      <th>25%</th>\n",
       "      <td>8.000000</td>\n",
       "      <td>256.000000</td>\n",
       "      <td>14.000000</td>\n",
       "      <td>661.082500</td>\n",
       "    </tr>\n",
       "    <tr>\n",
       "      <th>50%</th>\n",
       "      <td>16.000000</td>\n",
       "      <td>512.000000</td>\n",
       "      <td>15.600000</td>\n",
       "      <td>1031.945000</td>\n",
       "    </tr>\n",
       "    <tr>\n",
       "      <th>75%</th>\n",
       "      <td>16.000000</td>\n",
       "      <td>1000.000000</td>\n",
       "      <td>15.600000</td>\n",
       "      <td>1708.970000</td>\n",
       "    </tr>\n",
       "    <tr>\n",
       "      <th>max</th>\n",
       "      <td>128.000000</td>\n",
       "      <td>4000.000000</td>\n",
       "      <td>18.000000</td>\n",
       "      <td>7150.470000</td>\n",
=======
       "      <th>0</th>\n",
       "      <td>8</td>\n",
       "      <td>512</td>\n",
       "      <td>15.6</td>\n",
       "      <td>1009.00</td>\n",
       "    </tr>\n",
       "    <tr>\n",
       "      <th>1</th>\n",
       "      <td>8</td>\n",
       "      <td>256</td>\n",
       "      <td>15.6</td>\n",
       "      <td>299.00</td>\n",
       "    </tr>\n",
       "    <tr>\n",
       "      <th>2</th>\n",
       "      <td>8</td>\n",
       "      <td>256</td>\n",
       "      <td>15.6</td>\n",
       "      <td>789.00</td>\n",
       "    </tr>\n",
       "    <tr>\n",
       "      <th>3</th>\n",
       "      <td>16</td>\n",
       "      <td>1000</td>\n",
       "      <td>15.6</td>\n",
       "      <td>1199.00</td>\n",
       "    </tr>\n",
       "    <tr>\n",
       "      <th>4</th>\n",
       "      <td>16</td>\n",
       "      <td>512</td>\n",
       "      <td>15.6</td>\n",
       "      <td>669.01</td>\n",
>>>>>>> b9e5cbf (Homework 02)
       "    </tr>\n",
       "  </tbody>\n",
       "</table>\n",
       "</div>"
      ],
      "text/plain": [
<<<<<<< HEAD
       "               ram      storage       screen  final_price\n",
       "count  2160.000000  2160.000000  2156.000000  2160.000000\n",
       "mean     15.413889   596.294444    15.168112  1312.638509\n",
       "std       9.867815   361.220506     1.203329   911.475417\n",
       "min       4.000000     0.000000    10.100000   201.050000\n",
       "25%       8.000000   256.000000    14.000000   661.082500\n",
       "50%      16.000000   512.000000    15.600000  1031.945000\n",
       "75%      16.000000  1000.000000    15.600000  1708.970000\n",
       "max     128.000000  4000.000000    18.000000  7150.470000"
      ]
     },
     "execution_count": 22,
=======
       "   ram  storage  screen  final_price\n",
       "0    8      512    15.6      1009.00\n",
       "1    8      256    15.6       299.00\n",
       "2    8      256    15.6       789.00\n",
       "3   16     1000    15.6      1199.00\n",
       "4   16      512    15.6       669.01"
      ]
     },
     "execution_count": 7,
>>>>>>> b9e5cbf (Homework 02)
     "metadata": {},
     "output_type": "execute_result"
    }
   ],
   "source": [
<<<<<<< HEAD
    "df.describe()"
=======
    "df.head()"
>>>>>>> b9e5cbf (Homework 02)
   ]
  },
  {
   "cell_type": "code",
<<<<<<< HEAD
   "execution_count": 23,
   "id": "992a75b5",
   "metadata": {},
   "outputs": [],
   "source": [
    "columns = [\n",
    "    'ram', \n",
    "    'storage',\n",
    "    'screen',\n",
    "    'final_price'\n",
    "]\n",
    "\n",
    "df = df[columns]"
   ]
  },
  {
   "cell_type": "markdown",
   "id": "b25b0177",
   "metadata": {},
   "source": [
    "**Question 1**: Feature with missing values"
=======
   "execution_count": 8,
   "metadata": {},
   "outputs": [],
   "source": [
    "import matplotlib.pyplot as plt\n",
    "import seaborn as sns"
>>>>>>> b9e5cbf (Homework 02)
   ]
  },
  {
   "cell_type": "code",
<<<<<<< HEAD
   "execution_count": 24,
   "id": "5f9ca847",
=======
   "execution_count": 9,
>>>>>>> b9e5cbf (Homework 02)
   "metadata": {},
   "outputs": [
    {
     "data": {
      "text/plain": [
<<<<<<< HEAD
       "ram            0\n",
       "storage        0\n",
       "screen         4\n",
       "final_price    0\n",
       "dtype: int64"
      ]
     },
     "execution_count": 24,
     "metadata": {},
     "output_type": "execute_result"
    }
   ],
   "source": [
    "df.isnull().sum()"
=======
       "<Axes: xlabel='final_price', ylabel='Count'>"
      ]
     },
     "execution_count": 9,
     "metadata": {},
     "output_type": "execute_result"
    },
    {
     "data": {
      "image/png": "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",
      "text/plain": [
       "<Figure size 640x480 with 1 Axes>"
      ]
     },
     "metadata": {},
     "output_type": "display_data"
    }
   ],
   "source": [
    "sns.histplot(df['final_price'], bins=50)"
>>>>>>> b9e5cbf (Homework 02)
   ]
  },
  {
   "cell_type": "markdown",
<<<<<<< HEAD
   "id": "5875e9d3",
   "metadata": {},
   "source": [
    "Answer: `total_bedrooms`"
   ]
  },
  {
   "cell_type": "markdown",
   "id": "cedf28ee",
   "metadata": {},
   "source": [
    "**Question 2**: Median for population"
=======
   "metadata": {},
   "source": [
    "#### Question 01"
>>>>>>> b9e5cbf (Homework 02)
   ]
  },
  {
   "cell_type": "code",
<<<<<<< HEAD
   "execution_count": 25,
   "id": "aa66e0f5-a024-4817-8532-6927cecafb01",
=======
   "execution_count": 10,
>>>>>>> b9e5cbf (Homework 02)
   "metadata": {},
   "outputs": [
    {
     "data": {
      "text/plain": [
<<<<<<< HEAD
       "16.0"
      ]
     },
     "execution_count": 25,
=======
       "ram            False\n",
       "storage        False\n",
       "screen          True\n",
       "final_price    False\n",
       "dtype: bool"
      ]
     },
     "execution_count": 10,
>>>>>>> b9e5cbf (Homework 02)
     "metadata": {},
     "output_type": "execute_result"
    }
   ],
   "source": [
<<<<<<< HEAD
    "df['ram'].median()"
=======
    "df.isna().any()"
>>>>>>> b9e5cbf (Homework 02)
   ]
  },
  {
   "cell_type": "markdown",
<<<<<<< HEAD
   "id": "aefaa53f",
   "metadata": {},
   "source": [
    "Splitting and preparing the dataset"
=======
   "metadata": {},
   "source": [
    "#### Question 02"
>>>>>>> b9e5cbf (Homework 02)
   ]
  },
  {
   "cell_type": "code",
<<<<<<< HEAD
   "execution_count": 26,
   "id": "e4335d7d",
=======
   "execution_count": 11,
   "metadata": {},
   "outputs": [
    {
     "data": {
      "text/plain": [
       "count    2160.000000\n",
       "mean       15.413889\n",
       "std         9.867815\n",
       "min         4.000000\n",
       "25%         8.000000\n",
       "50%        16.000000\n",
       "75%        16.000000\n",
       "max       128.000000\n",
       "Name: ram, dtype: float64"
      ]
     },
     "execution_count": 11,
     "metadata": {},
     "output_type": "execute_result"
    }
   ],
   "source": [
    "df['ram'].describe()"
   ]
  },
  {
   "cell_type": "markdown",
   "metadata": {},
   "source": [
    "#### Prepare data splits"
   ]
  },
  {
   "cell_type": "code",
   "execution_count": 12,
>>>>>>> b9e5cbf (Homework 02)
   "metadata": {},
   "outputs": [],
   "source": [
    "n = len(df)\n",
    "\n",
<<<<<<< HEAD
    "n_val = int(0.2 * n)\n",
    "n_test = int(0.2 * n)\n",
    "n_train = n - (n_val + n_test)\n",
    "\n",
=======
    "n_val = int(n * 0.2)\n",
    "n_test = int(n * 0.2)\n",
    "n_train = n - n_val - n_test"
   ]
  },
  {
   "cell_type": "code",
   "execution_count": 13,
   "metadata": {},
   "outputs": [],
   "source": [
>>>>>>> b9e5cbf (Homework 02)
    "idx = np.arange(n)\n",
    "np.random.seed(42)\n",
    "np.random.shuffle(idx)\n",
    "\n",
<<<<<<< HEAD
    "df_shuffled = df.iloc[idx]\n",
    "\n",
    "df_train = df_shuffled.iloc[:n_train].copy()\n",
    "df_val = df_shuffled.iloc[n_train:n_train+n_val].copy()\n",
    "df_test = df_shuffled.iloc[n_train+n_val:].copy()\n",
    "\n",
=======
    "df_train = df.iloc[idx[:n_train]]\n",
    "df_val = df.iloc[idx[n_train:n_train + n_val]]\n",
    "df_test = df.iloc[idx[n_train + n_val:]]"
   ]
  },
  {
   "cell_type": "code",
   "execution_count": 14,
   "metadata": {},
   "outputs": [
    {
     "data": {
      "text/plain": [
       "(1296, 432, 432)"
      ]
     },
     "execution_count": 14,
     "metadata": {},
     "output_type": "execute_result"
    }
   ],
   "source": [
    "len(df_train), len(df_val), len(df_test)"
   ]
  },
  {
   "cell_type": "code",
   "execution_count": 15,
   "metadata": {},
   "outputs": [],
   "source": [
>>>>>>> b9e5cbf (Homework 02)
    "df_train = df_train.reset_index(drop=True)\n",
    "df_val = df_val.reset_index(drop=True)\n",
    "df_test = df_test.reset_index(drop=True)"
   ]
  },
  {
<<<<<<< HEAD
   "cell_type": "code",
   "execution_count": 27,
   "id": "af8ec23d",
   "metadata": {},
   "outputs": [],
   "source": [
    "y_train = df_train.final_price.values\n",
    "y_val = df_val.final_price.values\n",
    "y_test = df_test.final_price.values\n",
    "\n",
    "del df_train['final_price']\n",
    "del df_val['final_price']\n",
    "del df_test['final_price']"
   ]
  },
  {
   "cell_type": "markdown",
   "id": "ff693918",
   "metadata": {},
   "source": [
    "**Question 3**: Mean vs zero"
=======
   "cell_type": "markdown",
   "metadata": {},
   "source": [
    "#### Question 03"
   ]
  },
  {
   "cell_type": "code",
   "execution_count": 16,
   "metadata": {},
   "outputs": [],
   "source": [
    "def fill_na(df, column, fill_with):\n",
    "    df_temp = df.copy()\n",
    "    df_temp[column] = df_temp[column].fillna(fill_with)\n",
    "    return df_temp\n"
>>>>>>> b9e5cbf (Homework 02)
   ]
  },
  {
   "cell_type": "code",
<<<<<<< HEAD
   "execution_count": 32,
   "id": "da978b10",
=======
   "execution_count": 17,
   "metadata": {},
   "outputs": [],
   "source": [
    "# fill with 0\n",
    "\n",
    "df_train_0 = fill_na(df_train, \"screen\", 0)\n",
    "df_val_0 = fill_na(df_val, \"screen\", 0)\n",
    "df_test_0 = fill_na(df_test, \"screen\", 0)"
   ]
  },
  {
   "cell_type": "code",
   "execution_count": 18,
   "metadata": {},
   "outputs": [],
   "source": [
    "# fill with mean\n",
    "\n",
    "mean = df_train[\"screen\"].mean()\n",
    "\n",
    "df_train_mean = fill_na(df_train, \"screen\", mean)\n",
    "df_val_mean = fill_na(df_val, \"screen\", mean)\n",
    "df_test_mean = fill_na(df_test, \"screen\", mean)"
   ]
  },
  {
   "cell_type": "code",
   "execution_count": 19,
>>>>>>> b9e5cbf (Homework 02)
   "metadata": {},
   "outputs": [],
   "source": [
    "def train_linear_regression(X, y):\n",
    "    ones = np.ones(X.shape[0])\n",
    "    X = np.column_stack([ones, X])\n",
    "\n",
    "    XTX = X.T.dot(X)\n",
    "    XTX_inv = np.linalg.inv(XTX)\n",
<<<<<<< HEAD
    "    w = XTX_inv.dot(X.T).dot(y)\n",
    "    \n",
    "    return w[0], w[1:]\n",
    "\n",
    "def prepare_X(df, fillna_value):\n",
    "    df = df.fillna(fillna_value)\n",
    "    X = df.values\n",
    "    return X\n",
    "\n",
    "def rmse(y, y_pred):\n",
    "    error = y_pred - y\n",
    "    mse = (error ** 2).mean()\n",
    "    return np.sqrt(mse)"
   ]
  },
  {
   "cell_type": "markdown",
   "id": "1ac2bcfd",
   "metadata": {},
   "source": [
    "with mean:"
=======
    "    w_full = XTX_inv.dot(X.T).dot(y)\n",
    "    \n",
    "    return w_full[0], w_full[1:]"
>>>>>>> b9e5cbf (Homework 02)
   ]
  },
  {
   "cell_type": "code",
<<<<<<< HEAD
   "execution_count": 33,
   "id": "667f94fc",
=======
   "execution_count": 20,
   "metadata": {},
   "outputs": [],
   "source": [
    "def rmse(y, y_pred):\n",
    "    se = (y - y_pred) ** 2\n",
    "    mse = se.mean()\n",
    "    return np.sqrt(mse)"
   ]
  },
  {
   "cell_type": "code",
   "execution_count": 21,
   "metadata": {},
   "outputs": [],
   "source": [
    "y_train = np.log1p(df_train.final_price.values)\n",
    "y_val = np.log1p(df_val.final_price.values)\n",
    "y_test = np.log1p(df_test.final_price.values)"
   ]
  },
  {
   "cell_type": "code",
   "execution_count": 22,
   "metadata": {},
   "outputs": [],
   "source": [
    "cols = ['ram', 'storage', 'screen']\n",
    "w0, w = train_linear_regression(df_train_0[cols], y_train)"
   ]
  },
  {
   "cell_type": "code",
   "execution_count": 23,
   "metadata": {},
   "outputs": [],
   "source": [
    "y_pred_0 = w0 + df_val_0[cols].values.dot(w)"
   ]
  },
  {
   "cell_type": "code",
   "execution_count": 24,
>>>>>>> b9e5cbf (Homework 02)
   "metadata": {},
   "outputs": [
    {
     "data": {
      "text/plain": [
<<<<<<< HEAD
       "600.3637630345283"
=======
       "0.43"
      ]
     },
     "execution_count": 24,
     "metadata": {},
     "output_type": "execute_result"
    }
   ],
   "source": [
    "round(rmse(y_val, y_pred_0), 2)"
   ]
  },
  {
   "cell_type": "code",
   "execution_count": 25,
   "metadata": {},
   "outputs": [],
   "source": [
    "w0_mean, w_mean = train_linear_regression(df_train_mean[cols], y_train)"
   ]
  },
  {
   "cell_type": "code",
   "execution_count": 26,
   "metadata": {},
   "outputs": [],
   "source": [
    "y_pred_mean = w0_mean + df_val_mean[cols].values.dot(w_mean)"
   ]
  },
  {
   "cell_type": "code",
   "execution_count": 27,
   "metadata": {},
   "outputs": [
    {
     "data": {
      "text/plain": [
       "0.43"
      ]
     },
     "execution_count": 27,
     "metadata": {},
     "output_type": "execute_result"
    }
   ],
   "source": [
    "round(rmse(y_val, y_pred_mean), 2)"
   ]
  },
  {
   "cell_type": "markdown",
   "metadata": {},
   "source": [
    "#### Question 04"
   ]
  },
  {
   "cell_type": "code",
   "execution_count": 28,
   "metadata": {},
   "outputs": [],
   "source": [
    "def train_linear_regression_reg(X, y, r=0.001):\n",
    "    ones = np.ones(X.shape[0])\n",
    "    X = np.column_stack([ones, X])\n",
    "\n",
    "    XTX = X.T.dot(X)\n",
    "    XTX = XTX + r * np.eye(XTX.shape[0])\n",
    "\n",
    "    XTX_inv = np.linalg.inv(XTX)\n",
    "    w_full = XTX_inv.dot(X.T).dot(y)\n",
    "    \n",
    "    return w_full[0], w_full[1:]"
   ]
  },
  {
   "cell_type": "code",
   "execution_count": 29,
   "metadata": {},
   "outputs": [],
   "source": [
    "res = {}\n",
    "for r in [0, 0.01, 0.1, 1, 5, 10, 100]:\n",
    "    w0_r, w_r = train_linear_regression_reg(df_train_0[cols], y_train, r)\n",
    "    y_pred_r = w0_r + df_val_0[cols].values.dot(w_r)\n",
    "    res[r] = round(rmse(y_val, y_pred_r), 2)"
   ]
  },
  {
   "cell_type": "code",
   "execution_count": 30,
   "metadata": {},
   "outputs": [
    {
     "data": {
      "text/plain": [
       "{0: 0.43, 0.01: 0.43, 0.1: 0.43, 1: 0.43, 5: 0.46, 10: 0.51, 100: 0.67}"
      ]
     },
     "execution_count": 30,
     "metadata": {},
     "output_type": "execute_result"
    }
   ],
   "source": [
    "res"
   ]
  },
  {
   "cell_type": "markdown",
   "metadata": {},
   "source": [
    "#### Question 05"
   ]
  },
  {
   "cell_type": "code",
   "execution_count": 31,
   "metadata": {},
   "outputs": [],
   "source": [
    "rmse_scores = {}\n",
    "\n",
    "for seed in [0, 1, 2, 3, 4, 5, 6, 7, 8, 9]:\n",
    "    idx = np.arange(n)\n",
    "    np.random.seed(seed)\n",
    "    np.random.shuffle(idx)\n",
    "\n",
    "    df_train_t = df.iloc[idx[:n_train]]\n",
    "    df_val_t = df.iloc[idx[n_train:n_train + n_val]]\n",
    "    df_test_t = df.iloc[idx[n_train + n_val:]]\n",
    "\n",
    "    df_train_t = df_train_t.reset_index(drop=True)\n",
    "    df_val_t = df_val_t.reset_index(drop=True)\n",
    "    df_test_t = df_test_t.reset_index(drop=True)\n",
    "\n",
    "    y_train_t = df_train_t.final_price.values\n",
    "    y_val_t = df_val_t.final_price.values\n",
    "    y_test_t = df_test_t.final_price.values\n",
    "\n",
    "    df_train_t_0 = fill_na(df_train_t, \"screen\", 0)\n",
    "    df_val_t_0 = fill_na(df_val_t, \"screen\", 0)\n",
    "    df_test_t_0 = fill_na(df_test_t, \"screen\", 0)\n",
    "\n",
    "    cols = ['ram', 'storage', 'screen']\n",
    "    w0_t, w_t = train_linear_regression(df_train_t_0[cols], y_train_t)\n",
    "    y_pred_t_0 = w0_t + df_val_t_0[cols].values.dot(w_t)\n",
    "\n",
    "    rmse_scores[seed] = rmse(y_val_t, y_pred_t_0)"
   ]
  },
  {
   "cell_type": "code",
   "execution_count": 32,
   "metadata": {},
   "outputs": [
    {
     "data": {
      "text/plain": [
       "{0: 565.4520868770995,\n",
       " 1: 636.7985423056726,\n",
       " 2: 588.955869790796,\n",
       " 3: 597.8148920012515,\n",
       " 4: 571.962791511103,\n",
       " 5: 573.238325661895,\n",
       " 6: 647.3438328407194,\n",
       " 7: 550.4398184485962,\n",
       " 8: 587.3335036169963,\n",
       " 9: 576.101792943313}"
      ]
     },
     "execution_count": 32,
     "metadata": {},
     "output_type": "execute_result"
    }
   ],
   "source": [
    "rmse_scores"
   ]
  },
  {
   "cell_type": "code",
   "execution_count": 33,
   "metadata": {},
   "outputs": [
    {
     "data": {
      "text/plain": [
       "29.176"
>>>>>>> b9e5cbf (Homework 02)
      ]
     },
     "execution_count": 33,
     "metadata": {},
     "output_type": "execute_result"
    }
   ],
   "source": [
<<<<<<< HEAD
    "mean = df_train.ram.mean()\n",
    "\n",
    "X_train = prepare_X(df_train, fillna_value=mean)\n",
    "w_0, w = train_linear_regression(X_train, y_train)\n",
    "\n",
    "X_val = prepare_X(df_val, fillna_value=mean)\n",
    "y_pred = w_0 + X_val.dot(w)\n",
    "\n",
    "rmse(y_val, y_pred)"
=======
    "round(np.std(list(rmse_scores.values())), 3)"
>>>>>>> b9e5cbf (Homework 02)
   ]
  },
  {
   "cell_type": "markdown",
<<<<<<< HEAD
   "id": "86b1b2a4",
   "metadata": {},
   "source": [
    "with 0:"
=======
   "metadata": {},
   "source": [
    "### Question 06"
>>>>>>> b9e5cbf (Homework 02)
   ]
  },
  {
   "cell_type": "code",
   "execution_count": 34,
<<<<<<< HEAD
   "id": "b0ae2b32",
=======
>>>>>>> b9e5cbf (Homework 02)
   "metadata": {},
   "outputs": [
    {
     "data": {
      "text/plain": [
<<<<<<< HEAD
       "597.363559361963"
=======
       "608.6099822049559"
>>>>>>> b9e5cbf (Homework 02)
      ]
     },
     "execution_count": 34,
     "metadata": {},
     "output_type": "execute_result"
    }
   ],
   "source": [
<<<<<<< HEAD
    "X_train = prepare_X(df_train, fillna_value=0)\n",
    "w_0, w = train_linear_regression(X_train, y_train)\n",
    "\n",
    "X_val = prepare_X(df_val, fillna_value=0)\n",
    "y_pred = w_0 + X_val.dot(w)\n",
    "\n",
    "rmse(y_val, y_pred)"
   ]
  },
  {
   "cell_type": "markdown",
   "id": "dfd537dc",
   "metadata": {},
   "source": [
    "The answer: **with 0**"
   ]
  },
  {
   "cell_type": "markdown",
   "id": "09a8e086",
   "metadata": {},
   "source": [
    "**Question 4**: Regularization"
   ]
  },
  {
   "cell_type": "code",
   "execution_count": 35,
   "id": "9642eb7d",
   "metadata": {},
   "outputs": [],
   "source": [
    "def train_linear_regression_reg(X, y, r=0.0):\n",
    "    ones = np.ones(X.shape[0])\n",
    "    X = np.column_stack([ones, X])\n",
    "\n",
    "    XTX = X.T.dot(X)\n",
    "    reg = r * np.eye(XTX.shape[0])\n",
    "    XTX = XTX + reg\n",
    "\n",
    "    XTX_inv = np.linalg.inv(XTX)\n",
    "    w = XTX_inv.dot(X.T).dot(y)\n",
    "    \n",
    "    return w[0], w[1:]"
   ]
  },
  {
   "cell_type": "code",
   "execution_count": 42,
   "id": "110bbed7",
   "metadata": {},
   "outputs": [
    {
     "name": "stdout",
     "output_type": "stream",
     "text": [
      "     0 597.36\n",
      "  0.01 597.36\n",
      "     1 597.21\n",
      "    10 597.06\n",
      "   100 597.90\n"
     ]
    }
   ],
   "source": [
    "for r in [0, 0.01, 1, 10, 100]:\n",
    "    w_0, w = train_linear_regression_reg(X_train, y_train, r=r)\n",
    "    y_pred = w_0 + X_val.dot(w)\n",
    "    rmse_val = rmse(y_val, y_pred)\n",
    "    print('%06s %0.2f' % (r, rmse_val))"
   ]
  },
  {
   "cell_type": "markdown",
   "id": "58525d07",
   "metadata": {},
   "source": [
    "The answer: `r=10`"
   ]
  },
  {
   "cell_type": "markdown",
   "id": "f330354e",
   "metadata": {},
   "source": [
    "**Question 5**: Standard deviation of RMSE"
   ]
  },
  {
   "cell_type": "code",
   "execution_count": 44,
   "id": "c8bf8f06",
   "metadata": {},
   "outputs": [
    {
     "name": "stdout",
     "output_type": "stream",
     "text": [
      "0 565.4520868770992\n",
      "1 636.7985423056716\n",
      "2 588.9558697907979\n",
      "3 597.8148920012542\n",
      "4 571.9627915111046\n",
      "5 573.2383256618959\n",
      "6 647.3438328407311\n",
      "7 550.4398184485875\n",
      "8 587.333503616987\n",
      "9 576.1017929433077\n"
     ]
    }
   ],
   "source": [
    "rmses = []\n",
    "\n",
    "for s in [0, 1, 2, 3, 4, 5, 6, 7, 8, 9]:\n",
    "\n",
    "    n = len(df)\n",
    "\n",
    "    n_val = int(0.2 * n)\n",
    "    n_test = int(0.2 * n)\n",
    "    n_train = n - (n_val + n_test)\n",
    "\n",
    "    idx = np.arange(n)\n",
    "    np.random.seed(s)\n",
    "    np.random.shuffle(idx)\n",
    "\n",
    "    df_shuffled = df.iloc[idx]\n",
    "\n",
    "    df_train = df_shuffled.iloc[:n_train].copy()\n",
    "    df_val = df_shuffled.iloc[n_train:n_train+n_val].copy()\n",
    "    df_test = df_shuffled.iloc[n_train+n_val:].copy()\n",
    "\n",
    "    df_train = df_train.reset_index(drop=True)\n",
    "    df_val = df_val.reset_index(drop=True)\n",
    "    df_test = df_test.reset_index(drop=True)\n",
    "    \n",
    "    y_train = df_train.final_price.values\n",
    "    y_val = df_val.final_price.values\n",
    "    y_test = df_test.final_price.values\n",
    "    \n",
    "    del df_train['final_price']\n",
    "    del df_val['final_price']\n",
    "    del df_test['final_price']\n",
    "\n",
    "    X_train = prepare_X(df_train, fillna_value=0)\n",
    "    w_0, w = train_linear_regression(X_train, y_train)\n",
    "\n",
    "    X_val = prepare_X(df_val, fillna_value=0)\n",
    "    y_pred = w_0 + X_val.dot(w)\n",
    "\n",
    "    result = rmse(y_val, y_pred)\n",
    "    print(s, result)\n",
    "    \n",
    "    rmses.append(result)"
   ]
  },
  {
   "cell_type": "code",
   "execution_count": 45,
   "id": "a1ea59b7",
   "metadata": {},
   "outputs": [
    {
     "data": {
      "text/plain": [
       "29.176491258295968"
      ]
     },
     "execution_count": 45,
     "metadata": {},
     "output_type": "execute_result"
    }
   ],
   "source": [
    "np.std(rmses)"
   ]
  },
  {
   "cell_type": "markdown",
   "id": "c29fe6fa",
   "metadata": {},
   "source": [
    "**Question 6**: RMSE for Test"
   ]
  },
  {
   "cell_type": "code",
   "execution_count": 46,
   "id": "b9d8d0e4",
   "metadata": {},
   "outputs": [],
   "source": [
    "n = len(df)\n",
    "\n",
    "n_val = int(0.2 * n)\n",
    "n_test = int(0.2 * n)\n",
    "n_train = n - (n_val + n_test)\n",
    "\n",
=======
>>>>>>> b9e5cbf (Homework 02)
    "idx = np.arange(n)\n",
    "np.random.seed(9)\n",
    "np.random.shuffle(idx)\n",
    "\n",
<<<<<<< HEAD
    "df_shuffled = df.iloc[idx]\n",
    "\n",
    "df_train = df_shuffled.iloc[:n_train].copy()\n",
    "df_val = df_shuffled.iloc[n_train:n_train+n_val].copy()\n",
    "df_test = df_shuffled.iloc[n_train+n_val:].copy()\n",
    "\n",
    "df_train = df_train.reset_index(drop=True)\n",
    "df_val = df_val.reset_index(drop=True)\n",
    "df_test = df_test.reset_index(drop=True)\n",
    "\n",
    "y_train = df_train.final_price.values\n",
    "y_val = df_val.final_price.values\n",
    "y_test = df_test.final_price.values\n",
    "\n",
    "del df_train['final_price']\n",
    "del df_val['final_price']\n",
    "del df_test['final_price']"
   ]
  },
  {
   "cell_type": "code",
   "execution_count": 47,
   "id": "dfe80373",
   "metadata": {},
   "outputs": [
    {
     "name": "stdout",
     "output_type": "stream",
     "text": [
      "608.6099822049601\n"
     ]
    }
   ],
   "source": [
    "df_full_train = pd.concat([df_train, df_val])\n",
    "df_full_train = df_full_train.reset_index(drop=True)\n",
    "\n",
    "X_full_train = prepare_X(df_full_train, fillna_value=0)\n",
    "y_full_train = np.concatenate([y_train, y_val])\n",
    "w_0, w = train_linear_regression_reg(X_full_train, y_full_train, r=0.001)\n",
    "\n",
    "X_test = prepare_X(df_test, fillna_value=0)\n",
    "y_pred = w_0 + X_test.dot(w)\n",
    "\n",
    "result = rmse(y_test, y_pred)\n",
    "print(result)"
=======
    "df_train_t = df.iloc[idx[:n_train]]\n",
    "df_val_t = df.iloc[idx[n_train:n_train + n_val]]\n",
    "df_test_t = df.iloc[idx[n_train + n_val:]]\n",
    "\n",
    "df_train_t = df_train_t.reset_index(drop=True)\n",
    "df_val_t = df_val_t.reset_index(drop=True)\n",
    "df_test_t = df_test_t.reset_index(drop=True)\n",
    "\n",
    "df_full_train = pd.concat([df_train_t, df_val_t])\n",
    "df_full_train = df_full_train.reset_index(drop=True)\n",
    "\n",
    "y_test_t = df_test_t.final_price.values\n",
    "y_full_train = df_full_train.final_price.values\n",
    "\n",
    "df_full_train_0 = fill_na(df_full_train, \"screen\", 0)\n",
    "df_test_t_0 = fill_na(df_test_t, \"screen\", 0)\n",
    "\n",
    "cols = ['ram', 'storage', 'screen']\n",
    "w0_t, w_t = train_linear_regression_reg(df_full_train_0[cols], y_full_train, 0.001)\n",
    "y_pred_t_0 = w0_t + df_test_t_0[cols].values.dot(w_t)\n",
    "\n",
    "rmse(y_test_t, y_pred_t_0)"
>>>>>>> b9e5cbf (Homework 02)
   ]
  },
  {
   "cell_type": "code",
   "execution_count": null,
<<<<<<< HEAD
   "id": "a72ec9bb-4661-4cc0-ad23-731f70fd0cd8",
=======
>>>>>>> b9e5cbf (Homework 02)
   "metadata": {},
   "outputs": [],
   "source": []
  }
 ],
 "metadata": {
  "kernelspec": {
<<<<<<< HEAD
   "display_name": "Python 3 (ipykernel)",
=======
   "display_name": "ml-zoomcamp",
>>>>>>> b9e5cbf (Homework 02)
   "language": "python",
   "name": "python3"
  },
  "language_info": {
   "codemirror_mode": {
    "name": "ipython",
    "version": 3
   },
   "file_extension": ".py",
   "mimetype": "text/x-python",
   "name": "python",
   "nbconvert_exporter": "python",
   "pygments_lexer": "ipython3",
<<<<<<< HEAD
   "version": "3.12.3"
  }
 },
 "nbformat": 4,
 "nbformat_minor": 5
=======
   "version": "3.11.9"
  }
 },
 "nbformat": 4,
 "nbformat_minor": 2
>>>>>>> b9e5cbf (Homework 02)
}
